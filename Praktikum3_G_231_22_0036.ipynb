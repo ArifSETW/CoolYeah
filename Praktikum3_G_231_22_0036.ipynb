{
  "nbformat": 4,
  "nbformat_minor": 0,
  "metadata": {
    "colab": {
      "provenance": []
    },
    "kernelspec": {
      "name": "python3",
      "display_name": "Python 3"
    },
    "language_info": {
      "name": "python"
    }
  },
  "cells": [
    {
      "cell_type": "code",
      "execution_count": 13,
      "metadata": {
        "colab": {
          "base_uri": "https://localhost:8080/"
        },
        "id": "z0JEHUaYd1nE",
        "outputId": "e3acf34a-23d8-4eb7-d30d-b4dd42687db4"
      },
      "outputs": [
        {
          "output_type": "stream",
          "name": "stdout",
          "text": [
            "programming\n"
          ]
        }
      ],
      "source": [
        "def convert(s):\n",
        "  new = \"\"\n",
        "  for x in s:\n",
        "   new += x\n",
        "  return new\n",
        "\n",
        "#driver code\n",
        "a = ['p', 'r', 'o', 'g', 'r', 'a', 'm','m', 'i', 'n', 'g']\n",
        "print(convert(a))"
      ]
    },
    {
      "cell_type": "code",
      "source": [
        "def convert(s):\n",
        " new = \"\"\n",
        " for x in s:\n",
        "  new += x\n",
        " return new\n",
        "\n",
        "# driver code\n",
        "s = ['g', 'e', 'e', 'k', 's', 'f', 'o', 'r',\n",
        "'g', 'e', 'e', 'k', 's']\n",
        "print(convert(s))\n"
      ],
      "metadata": {
        "colab": {
          "base_uri": "https://localhost:8080/"
        },
        "id": "TYTgfMCee7w4",
        "outputId": "e47967f8-75b6-471f-f789-8b2bb609a709"
      },
      "execution_count": 8,
      "outputs": [
        {
          "output_type": "stream",
          "name": "stdout",
          "text": [
            "geeksforgeeks\n"
          ]
        }
      ]
    }
  ]
}