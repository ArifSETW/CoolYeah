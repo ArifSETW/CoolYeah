{
  "nbformat": 4,
  "nbformat_minor": 0,
  "metadata": {
    "colab": {
      "provenance": []
    },
    "kernelspec": {
      "name": "python3",
      "display_name": "Python 3"
    },
    "language_info": {
      "name": "python"
    }
  },
  "cells": [
    {
      "cell_type": "markdown",
      "source": [
        "Latihan 1: Membuat Program\n",
        "dengan **List**"
      ],
      "metadata": {
        "id": "C6k7PA9TuwO1"
      }
    },
    {
      "cell_type": "markdown",
      "source": [
        "# **LATIHAN 1 STRUKTUR DATA PRAKTIKUM**"
      ],
      "metadata": {
        "id": "9zL-EJCS5sC4"
      }
    },
    {
      "cell_type": "code",
      "source": [
        "#Deklarasi List\n",
        "list_nilai = [1,2,3,4,5,6,7,8,9,10]\n",
        "print(list_nilai)"
      ],
      "metadata": {
        "colab": {
          "base_uri": "https://localhost:8080/"
        },
        "id": "aukyysVd5zGX",
        "outputId": "b53712fd-5529-4fda-ecfb-c2789b6cd3ab"
      },
      "execution_count": null,
      "outputs": [
        {
          "output_type": "stream",
          "name": "stdout",
          "text": [
            "[1, 2, 3, 4, 5, 6, 7, 8, 9, 10]\n"
          ]
        }
      ]
    },
    {
      "cell_type": "code",
      "source": [
        "#tampilkan list\n",
        "print(\"List Nilai : \\n\",list_nilai)"
      ],
      "metadata": {
        "colab": {
          "base_uri": "https://localhost:8080/"
        },
        "id": "oXsbujgN6otL",
        "outputId": "bdbc018c-06b0-40c9-eb29-bb0c15debcc2"
      },
      "execution_count": null,
      "outputs": [
        {
          "output_type": "stream",
          "name": "stdout",
          "text": [
            "List Nilai : \n",
            " [1, 2, 3, 4, 5, 6, 7, 8, 9, 10]\n"
          ]
        }
      ]
    },
    {
      "cell_type": "code",
      "source": [
        "#menggunakan len\n",
        "print(\"\\nJumlah Index list nilai (len) : \\n\", len(list_nilai))"
      ],
      "metadata": {
        "colab": {
          "base_uri": "https://localhost:8080/"
        },
        "id": "DmDkgeCA6p22",
        "outputId": "a72ba61a-c626-4f99-dfe7-40de77f7c088"
      },
      "execution_count": null,
      "outputs": [
        {
          "output_type": "stream",
          "name": "stdout",
          "text": [
            "\n",
            "Jumlah Index list nilai (len) : \n",
            " 10\n"
          ]
        }
      ]
    },
    {
      "cell_type": "code",
      "source": [
        "#menggunakan count\n",
        "print(\"\\nJumlah Nilai 5 Dalam List (count) : \\n\", list_nilai.count(5))"
      ],
      "metadata": {
        "colab": {
          "base_uri": "https://localhost:8080/"
        },
        "id": "IBlCvQ4i6xIC",
        "outputId": "9fb1c312-a67f-4599-9e3d-6046fcfc966d"
      },
      "execution_count": null,
      "outputs": [
        {
          "output_type": "stream",
          "name": "stdout",
          "text": [
            "\n",
            "Jumlah Nilai 5 Dalam List (count) : \n",
            " 1\n"
          ]
        }
      ]
    },
    {
      "cell_type": "code",
      "source": [
        "#Menggunakan append\n",
        "print(\"\\nMenambah element dalam list (append) : \")\n",
        "list_nilai.append(12)\n",
        "list_nilai.append(10)\n",
        "print(\"List Nilai : \",list_nilai)"
      ],
      "metadata": {
        "colab": {
          "base_uri": "https://localhost:8080/"
        },
        "id": "xpkkTpIv61Lq",
        "outputId": "ec618d57-c80b-42c7-b8bb-90ef0fab4d2d"
      },
      "execution_count": null,
      "outputs": [
        {
          "output_type": "stream",
          "name": "stdout",
          "text": [
            "\n",
            "Menambah element dalam list (append) : \n",
            "List Nilai :  [1, 2, 3, 4, 5, 6, 7, 8, 9, 10, 12, 10]\n"
          ]
        }
      ]
    },
    {
      "cell_type": "code",
      "source": [
        "#Menggunakan insert\n",
        "list_nilai.insert(1,12)\n",
        "print(\"\\nTambah Nilai List (Insert) : \\n\", list_nilai)"
      ],
      "metadata": {
        "colab": {
          "base_uri": "https://localhost:8080/"
        },
        "id": "UTODdtiO66wE",
        "outputId": "254a7190-f1a5-4860-fbbd-8b9123a46399"
      },
      "execution_count": null,
      "outputs": [
        {
          "output_type": "stream",
          "name": "stdout",
          "text": [
            "\n",
            "Tambah Nilai List (Insert) : \n",
            " [1, 12, 2, 3, 4, 5, 6, 7, 8, 9, 10, 12, 10]\n"
          ]
        }
      ]
    },
    {
      "cell_type": "code",
      "source": [
        "#Menggunakan index\n",
        "print(\"\\nIndex ke 8 (index) : \\n\", list_nilai.index(8))"
      ],
      "metadata": {
        "colab": {
          "base_uri": "https://localhost:8080/"
        },
        "id": "9XMd7ua664SI",
        "outputId": "e70cf8ab-e226-4fb3-a9ef-18647e25b4d4"
      },
      "execution_count": null,
      "outputs": [
        {
          "output_type": "stream",
          "name": "stdout",
          "text": [
            "\n",
            "Index ke 8 (index) : \n",
            " 8\n"
          ]
        }
      ]
    },
    {
      "cell_type": "code",
      "source": [
        "#Menggunakan pop\n",
        "list_nilai.pop()\n",
        "list_nilai.pop()\n",
        "print(\"\\nList Nilai (pop) : \\n\",list_nilai)"
      ],
      "metadata": {
        "colab": {
          "base_uri": "https://localhost:8080/"
        },
        "id": "Vd4r_jBK68pR",
        "outputId": "c9f4315a-9754-45c2-c000-4ae28997d113"
      },
      "execution_count": null,
      "outputs": [
        {
          "output_type": "stream",
          "name": "stdout",
          "text": [
            "\n",
            "List Nilai (pop) : \n",
            " [1, 12, 2, 3, 4, 5, 6, 7, 8, 9, 10]\n"
          ]
        }
      ]
    },
    {
      "cell_type": "code",
      "source": [
        "#Menggunakan remove\n",
        "list_nilai.remove(2)\n",
        "list_nilai.remove(1)\n",
        "print(\"\\nList Nilai (remove) : \\n\", list_nilai)"
      ],
      "metadata": {
        "colab": {
          "base_uri": "https://localhost:8080/"
        },
        "id": "Y8dAfN0g7Hoe",
        "outputId": "b07f26cf-1de2-460e-e29c-7b6cda45c9c7"
      },
      "execution_count": null,
      "outputs": [
        {
          "output_type": "stream",
          "name": "stdout",
          "text": [
            "\n",
            "List Nilai (remove) : \n",
            " [12, 3, 4, 5, 6, 7, 8, 9, 10]\n"
          ]
        }
      ]
    },
    {
      "cell_type": "code",
      "source": [
        "#Menggunakan extend\n",
        "list_nilai2 = [4,3,8,7]\n",
        "list_nilai.extend(list_nilai2)\n",
        "print(\"\\nList Nilai (extend : \\n\", list_nilai)"
      ],
      "metadata": {
        "colab": {
          "base_uri": "https://localhost:8080/"
        },
        "id": "A9rTvKVF7Sa9",
        "outputId": "f3eb61d5-1485-48a4-f5f0-563ebcb65630"
      },
      "execution_count": null,
      "outputs": [
        {
          "output_type": "stream",
          "name": "stdout",
          "text": [
            "\n",
            "List Nilai (extend : \n",
            " [12, 3, 4, 5, 6, 7, 8, 9, 10, 4, 3, 8, 7]\n"
          ]
        }
      ]
    },
    {
      "cell_type": "code",
      "source": [
        "#Menggunakan reverse\n",
        "list_nilai.reverse()\n",
        "print(\"\\nList Nilai (reverse) : \\n\", list_nilai)"
      ],
      "metadata": {
        "colab": {
          "base_uri": "https://localhost:8080/"
        },
        "id": "ArGkMwSE7VvX",
        "outputId": "96a4c722-56eb-47df-c6ce-5f3503208564"
      },
      "execution_count": null,
      "outputs": [
        {
          "output_type": "stream",
          "name": "stdout",
          "text": [
            "\n",
            "List Nilai (reverse) : \n",
            " [7, 8, 3, 4, 10, 9, 8, 7, 6, 5, 4, 3, 12]\n"
          ]
        }
      ]
    },
    {
      "cell_type": "code",
      "source": [
        "#Menggunakan sort\n",
        "list_nilai.sort()\n",
        "print(\"\\nList Nilai (sort) : \\n\", list_nilai)"
      ],
      "metadata": {
        "colab": {
          "base_uri": "https://localhost:8080/"
        },
        "id": "TjoWG2lU7Y-W",
        "outputId": "afa84d39-1c1d-4e46-a1c3-9f83ca75ec81"
      },
      "execution_count": null,
      "outputs": [
        {
          "output_type": "stream",
          "name": "stdout",
          "text": [
            "\n",
            "List Nilai (sort) : \n",
            " [3, 3, 4, 4, 5, 6, 7, 7, 8, 8, 9, 10, 12]\n"
          ]
        }
      ]
    },
    {
      "cell_type": "code",
      "source": [
        "#Menggunakan Max\n",
        "print(\"\\nNilai Terbanyak (max) : \\n\", max(list_nilai))"
      ],
      "metadata": {
        "colab": {
          "base_uri": "https://localhost:8080/"
        },
        "id": "YitNELD27b-k",
        "outputId": "a29c05f8-3ac1-49aa-f544-07e8f414a752"
      },
      "execution_count": null,
      "outputs": [
        {
          "output_type": "stream",
          "name": "stdout",
          "text": [
            "\n",
            "Nilai Terbanyak (max) : \n",
            " 12\n"
          ]
        }
      ]
    },
    {
      "cell_type": "code",
      "source": [
        "#Mengguankan min\n",
        "print(\"\\nNilai terendah (min) : \\n\", min(list_nilai))"
      ],
      "metadata": {
        "colab": {
          "base_uri": "https://localhost:8080/"
        },
        "id": "Wbc9_KdT7eyK",
        "outputId": "b0041081-5276-4156-bdb4-8ff169028cd2"
      },
      "execution_count": null,
      "outputs": [
        {
          "output_type": "stream",
          "name": "stdout",
          "text": [
            "\n",
            "Nilai terendah (min) : \n",
            " 3\n"
          ]
        }
      ]
    },
    {
      "cell_type": "code",
      "source": [
        "#Menggunakan Sum\n",
        "print(\"\\nTotal penjumlahan nilai dari list_nilai (sum) : \\n\",\n",
        "sum(list_nilai))"
      ],
      "metadata": {
        "colab": {
          "base_uri": "https://localhost:8080/"
        },
        "id": "uf64-VcH7iuD",
        "outputId": "eaa2c9ef-7a1e-4511-cbb9-e71ffa23b905"
      },
      "execution_count": null,
      "outputs": [
        {
          "output_type": "stream",
          "name": "stdout",
          "text": [
            "\n",
            "Total penjumlahan nilai dari list_nilai (sum) : \n",
            " 86\n"
          ]
        }
      ]
    },
    {
      "cell_type": "code",
      "execution_count": null,
      "metadata": {
        "colab": {
          "base_uri": "https://localhost:8080/"
        },
        "id": "f7uOHWgQqDow",
        "outputId": "4ee8693d-334a-48af-a07b-4a763d5bd7e0"
      },
      "outputs": [
        {
          "output_type": "stream",
          "name": "stdout",
          "text": [
            "Isi my_friends indeks ke-3 adalah:Adi\n",
            "Semua teman: ada 5 orang\n",
            "Anggun\n",
            "Dian\n",
            "Agung\n",
            "Adi\n",
            "Adam\n"
          ]
        }
      ],
      "source": [
        "# Buat list untuk menampung nama-nama teman\n",
        "my_friends = [\"Anggun\", \"Dian\", \"Agung\", \"Adi\",\"Adam\"]\n",
        "\n",
        "# Tampilkan isi list my_friends dengan nomer indeks 3\n",
        "print(\"Isi my_friends indeks ke-3 adalah:{}\".format(my_friends[3]) )\n",
        "\n",
        "# Tampilkan semua daftar teman\n",
        "print(\"Semua teman: ada {} orang\".format(len(my_friends)))\n",
        "for friend in my_friends:print(friend)"
      ]
    },
    {
      "cell_type": "markdown",
      "source": [
        "**Mengganti** **Nilai List**"
      ],
      "metadata": {
        "id": "dzE9FCJ9vE64"
      }
    },
    {
      "cell_type": "code",
      "source": [
        "# list mula-mula\n",
        "buah = [\"jeruk\", \"apel\", \"mangga\", \"duren\"]\n",
        "# mengubah nilai index ke-2\n",
        "buah[2] = \"kelapa\"\n",
        "#Maka \"mangga\" akan diganti dengan \"kelapa\".\n",
        "print(buah)"
      ],
      "metadata": {
        "colab": {
          "base_uri": "https://localhost:8080/"
        },
        "id": "RGUzGRfQvIYo",
        "outputId": "3da14161-0b46-43f0-d360-fd0ca947c6f1"
      },
      "execution_count": null,
      "outputs": [
        {
          "output_type": "stream",
          "name": "stdout",
          "text": [
            "['jeruk', 'apel', 'kelapa', 'duren']\n"
          ]
        }
      ]
    },
    {
      "cell_type": "code",
      "source": [
        "teman = [\"susi\",\"budi\",\"agus\",\"rita\",\"rini\"]\n",
        "teman[2] = \"tuti\"\n",
        "print(teman)\n",
        "print('Teman dekat saya', teman[2])"
      ],
      "metadata": {
        "colab": {
          "base_uri": "https://localhost:8080/"
        },
        "id": "lfL-6p8EwFFH",
        "outputId": "f0d250c2-bd3b-46c6-cf62-49570cfd67b6"
      },
      "execution_count": null,
      "outputs": [
        {
          "output_type": "stream",
          "name": "stdout",
          "text": [
            "['susi', 'budi', 'tuti', 'rita', 'rini']\n",
            "Teman dekat saya tuti\n"
          ]
        }
      ]
    },
    {
      "cell_type": "markdown",
      "source": [
        "**Menambahkan Item List**"
      ],
      "metadata": {
        "id": "8nZIBfmXx6cn"
      }
    },
    {
      "cell_type": "code",
      "source": [
        "#list mula-mula\n",
        "buah = [\"jeruk\", \"apel\", \"mangga\", \"duren\"]\n",
        "# Tambahkan manggis\n",
        "buah.append(\"manggis\")\n",
        "#Hasilnya \"manggis\" akan ditambahkan setelah item terakhir.\n",
        "print(buah)"
      ],
      "metadata": {
        "colab": {
          "base_uri": "https://localhost:8080/"
        },
        "id": "ao6UodBvx9m5",
        "outputId": "4ed81d74-433e-400e-d6d8-700cf7124cf1"
      },
      "execution_count": null,
      "outputs": [
        {
          "output_type": "stream",
          "name": "stdout",
          "text": [
            "['jeruk', 'apel', 'mangga', 'duren', 'manggis']\n"
          ]
        }
      ]
    },
    {
      "cell_type": "code",
      "source": [
        "#list mula-mula\n",
        "buah = [\"jeruk\", \"apel\", \"mangga\", \"duren\"]\n",
        "buah.insert(0, \"anggur\")\n",
        "#Maka \"anggur\" akan ditambahkan pada awal list.\n",
        "print(buah)"
      ],
      "metadata": {
        "colab": {
          "base_uri": "https://localhost:8080/"
        },
        "id": "3BBEG71OzvMp",
        "outputId": "9ad55acb-bad5-413b-c264-c7525283ee1e"
      },
      "execution_count": null,
      "outputs": [
        {
          "output_type": "stream",
          "name": "stdout",
          "text": [
            "['anggur', 'jeruk', 'apel', 'mangga', 'duren']\n"
          ]
        }
      ]
    },
    {
      "cell_type": "code",
      "source": [
        "#list mula-mula\n",
        "buah = [\"jeruk\", \"apel\", \"mangga\", \"duren\"]\n",
        "buah.insert(2, \"duren\")\n",
        "print(buah)"
      ],
      "metadata": {
        "colab": {
          "base_uri": "https://localhost:8080/"
        },
        "id": "62Zs3a7A0_fW",
        "outputId": "d1a7abf5-9d02-4a91-898c-aa3ddd0cbb8d"
      },
      "execution_count": null,
      "outputs": [
        {
          "output_type": "stream",
          "name": "stdout",
          "text": [
            "['jeruk', 'apel', 'duren', 'mangga', 'duren']\n"
          ]
        }
      ]
    }
  ]
}