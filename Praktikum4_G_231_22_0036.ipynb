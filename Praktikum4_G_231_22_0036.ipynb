{
  "nbformat": 4,
  "nbformat_minor": 0,
  "metadata": {
    "colab": {
      "provenance": []
    },
    "kernelspec": {
      "name": "python3",
      "display_name": "Python 3"
    },
    "language_info": {
      "name": "python"
    }
  },
  "cells": [
    {
      "cell_type": "markdown",
      "source": [
        "Code latihan bu vivi\n"
      ],
      "metadata": {
        "id": "gO45QPpqp3Z0"
      }
    },
    {
      "cell_type": "code",
      "execution_count": 6,
      "metadata": {
        "colab": {
          "base_uri": "https://localhost:8080/"
        },
        "id": "nMjELGsnlHl1",
        "outputId": "248bbe9c-64b4-46c7-8918-97f3d8262ee1"
      },
      "outputs": [
        {
          "output_type": "stream",
          "name": "stdout",
          "text": [
            "\"The quick brown fox jumps over the little lazy dog\"\n",
            "\n",
            "is a pangram\n"
          ]
        }
      ],
      "source": [
        "# A Python Program to check if the given\n",
        "# string is a pangram or not\n",
        "def checkPangram(s):\n",
        " List = []\n",
        "# create list of 26 characters and set false each entry\n",
        " for i in range(26):\n",
        "  List.append(False)\n",
        " # converting the sentence to lowercase and iterating\n",
        " # over the sentence\n",
        " for c in s.lower():\n",
        "  if not c == \" \":\n",
        " # make the corresponding entry True\n",
        "   List[ord(c) - ord('a')] = True\n",
        " # check if any character is missing then return False\n",
        " for ch in List:\n",
        "  if ch == False:\n",
        "   return False\n",
        " return True\n",
        "# Driver Program to test above functions\n",
        "sentence = \"The quick brown fox jumps over the little lazy dog\"\n",
        "if (checkPangram(sentence)):\n",
        " print('\"'+sentence+'\"')\n",
        " print(\"\\nis a pangram\")\n",
        "else:\n",
        " print('\"'+sentence+'\"')\n",
        " print(\"\\nis not a pangram\")"
      ]
    },
    {
      "cell_type": "markdown",
      "source": [
        "**Code latihan saya**"
      ],
      "metadata": {
        "id": "dyQkaScepxQ3"
      }
    },
    {
      "cell_type": "code",
      "source": [
        "def checkPangram(s):\n",
        "    # Mengonversi string ke huruf kecil untuk memudahkan pemrosesan\n",
        "    s = s.lower()\n",
        "    List =[]\n",
        "\n",
        "    # Inisialisasi set kosong untuk menyimpan huruf yang sudah ditemukan\n",
        "    alphabet = set('abcdefghijklmnopqrstuvwxyz')\n",
        "\n",
        "    # Loooping melalui setiap karakter dalam string\n",
        "    for char in s:\n",
        "        # Hapus huruf dari set jika sudah ditemukan\n",
        "        if char in alphabet:\n",
        "            alphabet.remove(char)\n",
        "\n",
        "    # Jika set alphabet kosong, berarti string adalah pangram\n",
        "    if not alphabet:\n",
        "        return True\n",
        "    else:\n",
        "        return False\n",
        "\n",
        "# Contoh penggunaan\n",
        "kalimat = \"The quick brown fox jumps over the lazy dog.\"\n",
        "if checkPangram(kalimat):\n",
        "    print('\"'+kalimat+'\"')\n",
        "    print(\"\\nIni adalah pangram.\")\n",
        "else:\n",
        "    print(\"\\nIni bukan pangram.\")\n"
      ],
      "metadata": {
        "colab": {
          "base_uri": "https://localhost:8080/"
        },
        "id": "eOl2bXLPnD9k",
        "outputId": "a81654c2-dbc7-45f4-f007-87e8a609023a"
      },
      "execution_count": 15,
      "outputs": [
        {
          "output_type": "stream",
          "name": "stdout",
          "text": [
            "\"The quick brown fox jumps over the lazy dog.\"\n",
            "\n",
            "Ini adalah pangram.\n"
          ]
        }
      ]
    }
  ]
}