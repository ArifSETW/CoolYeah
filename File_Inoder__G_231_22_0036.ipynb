{
  "nbformat": 4,
  "nbformat_minor": 0,
  "metadata": {
    "colab": {
      "provenance": []
    },
    "kernelspec": {
      "name": "python3",
      "display_name": "Python 3"
    },
    "language_info": {
      "name": "python"
    }
  },
  "cells": [
    {
      "cell_type": "code",
      "execution_count": 2,
      "metadata": {
        "colab": {
          "base_uri": "https://localhost:8080/"
        },
        "id": "QLXBIwkPzz6r",
        "outputId": "5ab0b6b6-b25c-4896-926d-82c0f97e87e7"
      },
      "outputs": [
        {
          "output_type": "stream",
          "name": "stdout",
          "text": [
            "\n",
            "Inorder traversal of binary tree is\n",
            "4\n",
            "2\n",
            "1\n",
            "3\n",
            "5\n"
          ]
        }
      ],
      "source": [
        "#Python3 program to for tree traversals\n",
        "#Inoder\n",
        "class Node:\n",
        "  def __init__(self,key):\n",
        "    self.left = None\n",
        "    self.right = None\n",
        "    self.val = key\n",
        "#A Function to do inoder tree traversal\n",
        "def printInorder(root):\n",
        "\n",
        "  if root:\n",
        "\n",
        "    #First recun on left child\n",
        "    printInorder(root.left)\n",
        "\n",
        "    #then print the data of node\n",
        "    print(root.val)\n",
        "\n",
        "    #now recun on right child\n",
        "    printInorder(root.right)\n",
        "\n",
        "#Driver code\n",
        "if __name__ ==\"__main__\":\n",
        "  root = Node(1)\n",
        "  root.left = Node(2)\n",
        "  root.right = Node(3)\n",
        "  root.left.left = Node(4)\n",
        "  root.right.right = Node(5)\n",
        "\n",
        "  #Function call\n",
        "  print (\"\\nInorder traversal of binary tree is\")\n",
        "  printInorder(root)\n"
      ]
    }
  ]
}