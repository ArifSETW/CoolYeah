{
  "nbformat": 4,
  "nbformat_minor": 0,
  "metadata": {
    "colab": {
      "provenance": []
    },
    "kernelspec": {
      "name": "python3",
      "display_name": "Python 3"
    },
    "language_info": {
      "name": "python"
    }
  },
  "cells": [
    {
      "cell_type": "code",
      "execution_count": 7,
      "metadata": {
        "colab": {
          "base_uri": "https://localhost:8080/"
        },
        "id": "m1Q0gLF33Mj8",
        "outputId": "f4ac06ff-611d-49d2-c6d6-9299534ce02d"
      },
      "outputs": [
        {
          "output_type": "stream",
          "name": "stdout",
          "text": [
            "Preorder traversal of binary tree is\n",
            "1\n",
            "2\n",
            "4\n",
            "5\n",
            "3\n"
          ]
        }
      ],
      "source": [
        "#Preeorder binary tree\n",
        "\n",
        "class Node:\n",
        "  def __init__(self, key):\n",
        "    self.left = None\n",
        "    self.right = None\n",
        "    self.val = key\n",
        "\n",
        "#A function to do preorder tree traversal\n",
        "def printPreorder(root):\n",
        "\n",
        "  if root:\n",
        "\n",
        "    #First print the data of node\n",
        "    print(root.val),\n",
        "\n",
        "    #then recur on left child\n",
        "    printPreorder(root.left)\n",
        "\n",
        "    #Finaly recur on right child\n",
        "    printPreorder(root.right)\n",
        "\n",
        "#Driver code\n",
        "if __name__ == \"__main__\":\n",
        "  root = Node(1)\n",
        "  root.left = Node(2)\n",
        "  root.right =Node(3)\n",
        "  root.left.left =Node(4)\n",
        "  root.left.right =Node(5)\n",
        "\n",
        "#Function call\n",
        "print (\"Preorder traversal of binary tree is\")\n",
        "printPreorder(root)"
      ]
    }
  ]
}