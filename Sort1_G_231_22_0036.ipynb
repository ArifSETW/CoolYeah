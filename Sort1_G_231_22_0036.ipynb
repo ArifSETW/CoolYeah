{
  "nbformat": 4,
  "nbformat_minor": 0,
  "metadata": {
    "colab": {
      "provenance": []
    },
    "kernelspec": {
      "name": "python3",
      "display_name": "Python 3"
    },
    "language_info": {
      "name": "python"
    }
  },
  "cells": [
    {
      "cell_type": "markdown",
      "source": [
        "Nama = Arif Setiawan\n",
        "NIM  = G.231.22.0036"
      ],
      "metadata": {
        "id": "DlxDMH6-v0xp"
      }
    },
    {
      "cell_type": "code",
      "execution_count": 15,
      "metadata": {
        "colab": {
          "base_uri": "https://localhost:8080/"
        },
        "id": "7dUkK2ZGm0Xd",
        "outputId": "b7a86f75-dc22-4ba5-e522-420119065d6b"
      },
      "outputs": [
        {
          "output_type": "stream",
          "name": "stdout",
          "text": [
            "Sorted array is:\n",
            " 10  11  12  22  25  34  64  90  100 "
          ]
        }
      ],
      "source": [
        "def bubbleSort(array):\n",
        "  #mendapatkan array\n",
        " n = len(array)\n",
        " # Inisialisasi variabel untuk mengetahui apakah terjadi pertukaran elemen\n",
        " swapped = False\n",
        "\n",
        " #iterasi setiap elemen pada array\n",
        " for i in range(n-1):\n",
        "     #membandingkan dan menukar elemen\n",
        "     for j in range(0, n-i-1):\n",
        "         # Jika elemen lebih besar dari elemen berikutnya,lakukan pertukaran\n",
        "          if array[j] > array[j + 1]:\n",
        "           swapped = True\n",
        "           array[j], array[j + 1] = array[j + 1], array[j]\n",
        "\n",
        "    # Jika tidak ada pertukaran elemen, array sudah terurut\n",
        "     if not swapped:\n",
        "      break\n",
        "\n",
        "# Driver code to test above\n",
        "#array yang mau diurutkan\n",
        "array = [64, 10, 100, 34, 25, 12, 22, 11, 90]\n",
        "#Memanggil fungsi bubblesort\n",
        "bubbleSort(array)\n",
        "\n",
        "#output\n",
        "print(\"Sorted array is:\")\n",
        "for i in range(len(array)):\n",
        "   print(\"% d\" % array[i], end=\" \")"
      ]
    },
    {
      "cell_type": "code",
      "source": [
        "# Python program for implementation of \\\n",
        "# Selection Sort\n",
        "import sys\n",
        "\n",
        "#array yang mau diurutkan\n",
        "AraAra = [100, 125, 112, 122, 111]\n",
        "\n",
        "#iterasi setiap elemen pada array\n",
        "for i in range(len(AraAra)):\n",
        " #inisialisisai indexs paling kecil\n",
        " min_idx = i\n",
        "\n",
        "# Iterasi array yang belum diurutkan untuk mencari elemen paling kecil\n",
        " for j in range(i+1, len(AraAra)):\n",
        "  # Jika elemen lebih kecil dari elemen pling kecil yang diketahui\n",
        "  if AraAra[min_idx] > AraAra[j]:\n",
        "    #memperbarui indexs paling kecil\n",
        "   min_idx = j\n",
        "\n",
        " #menukar elemen paling kecil dengan elemen pertama yang belum diurutkan\n",
        " AraAra[i], AraAra[min_idx] = AraAra[min_idx], AraAra[i]\n",
        "\n",
        "#output\n",
        "print (\"Sorted array is\")\n",
        "for i in range(len(AraAra)):\n",
        " print(\"%d\" %AraAra[i],end=\" \")"
      ],
      "metadata": {
        "colab": {
          "base_uri": "https://localhost:8080/"
        },
        "id": "Jqjit_WcrW2g",
        "outputId": "742635b2-52d9-4d81-f95b-8beed5c24d5a"
      },
      "execution_count": 20,
      "outputs": [
        {
          "output_type": "stream",
          "name": "stdout",
          "text": [
            "Sorted array is\n",
            "100 111 112 122 125 "
          ]
        }
      ]
    },
    {
      "cell_type": "code",
      "source": [
        "# Python program for implementation of # InsertionSort\n",
        "# Function to do insertion sort\n",
        "def insertionSort(AraAra):\n",
        "  #iterasi dari indeks ke2\n",
        " for i in range(1, len(AraAra)):\n",
        "  #menyimpan nilai saat ini\n",
        "  key = AraAra[i]\n",
        "  #posisi indeks sebelumnya\n",
        "  j = i-1\n",
        "\n",
        "  #menggeser elemen yang lebih besar kedepan\n",
        " while j >= 0 and key < AraAra[j] :\n",
        "  AraAra[j + 1] = AraAra[j]\n",
        " j -= 1\n",
        "\n",
        " #memasukkan elemen saat ini ke posisi yang benar\n",
        " AraAra[j + 1] = key\n",
        "\n",
        "# Driver code to test above\n",
        "# array yang mau diurutkan\n",
        "AraAra = [112, 211, 213, 15, 106]\n",
        "insertionSort(AraAra)\n",
        "\n",
        "#output\n",
        "for i in range(len(AraAra)):\n",
        " print (\"% d\" % AraAra[i])"
      ],
      "metadata": {
        "colab": {
          "base_uri": "https://localhost:8080/"
        },
        "id": "ixkfW4NpuC5U",
        "outputId": "a49f6ac8-3b6f-48dc-9fdc-262bb37140c0"
      },
      "execution_count": 21,
      "outputs": [
        {
          "output_type": "stream",
          "name": "stdout",
          "text": [
            " 112\n",
            " 211\n",
            " 213\n",
            " 106\n",
            " 106\n"
          ]
        }
      ]
    }
  ]
}