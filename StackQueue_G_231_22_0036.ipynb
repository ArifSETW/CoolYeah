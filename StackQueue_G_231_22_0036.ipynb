{
  "nbformat": 4,
  "nbformat_minor": 0,
  "metadata": {
    "colab": {
      "provenance": []
    },
    "kernelspec": {
      "name": "python3",
      "display_name": "Python 3"
    },
    "language_info": {
      "name": "python"
    }
  },
  "cells": [
    {
      "cell_type": "code",
      "execution_count": 2,
      "metadata": {
        "colab": {
          "base_uri": "https://localhost:8080/"
        },
        "id": "TutsfyB0IYgj",
        "outputId": "db124d84-6663-4d1b-c399-956bbfb5cbfc"
      },
      "outputs": [
        {
          "output_type": "stream",
          "name": "stdout",
          "text": [
            "deque(['Ram', 'Tarun', 'Asif', 'John'])\n",
            "deque(['Ram', 'Tarun', 'Asif', 'John', 'Akbar'])\n",
            "deque(['Ram', 'Tarun', 'Asif', 'John', 'Akbar', 'Birbal'])\n",
            "Ram\n",
            "Tarun\n",
            "deque(['Asif', 'John', 'Akbar', 'Birbal'])\n"
          ]
        }
      ],
      "source": [
        "from collections import deque\n",
        "queue = deque ([\"Ram\", \"Tarun\", \"Asif\", \"John\"])\n",
        "print(queue)\n",
        "queue.append(\"Akbar\")\n",
        "print (queue)\n",
        "queue.append(\"Birbal\")\n",
        "print(queue)\n",
        "print(queue.popleft())\n",
        "print(queue.popleft())\n",
        "print(queue)"
      ]
    },
    {
      "cell_type": "code",
      "source": [
        "def TowerOfHanoi(n, dari, menuju, bantuan):\n",
        "    if n == 0:\n",
        "        return\n",
        "    TowerOfHanoi(n-1, dari, bantuan, menuju)\n",
        "    print(\"Pindah disk\", n, \"dari\", dari, \"ke\", menuju)\n",
        "    TowerOfHanoi(n-1, bantuan, dari, menuju)\n",
        "\n",
        "# Driver code\n",
        "N = 3\n",
        "\n",
        "# A, C, B are the name of rods\n",
        "TowerOfHanoi(N, 'A', 'C', 'B')\n"
      ],
      "metadata": {
        "id": "wN_eW8klPnKG",
        "outputId": "edb73df2-7071-4146-849e-c3439797757a",
        "colab": {
          "base_uri": "https://localhost:8080/"
        }
      },
      "execution_count": 9,
      "outputs": [
        {
          "output_type": "stream",
          "name": "stdout",
          "text": [
            "Pindah disk 1 dari A ke C\n",
            "Pindah disk 2 dari A ke B\n",
            "Pindah disk 1 dari C ke A\n",
            "Pindah disk 3 dari A ke C\n",
            "Pindah disk 1 dari B ke C\n",
            "Pindah disk 2 dari B ke A\n",
            "Pindah disk 1 dari C ke B\n"
          ]
        }
      ]
    },
    {
      "cell_type": "code",
      "source": [
        "def sortStack(input):\n",
        "    tmpStack = []\n",
        "    while len(input) > 0:\n",
        "        # pop out the first element\n",
        "        tmp = input[-1]\n",
        "        input.pop()\n",
        "\n",
        "        # while temporary stack is not empty\n",
        "        # and top of stack is smaller than temp\n",
        "        while len(tmpStack) > 0 and tmpStack[-1] < tmp:\n",
        "            # pop from temporary stack and\n",
        "            # append it to the input stack\n",
        "            input.append(tmpStack[-1])\n",
        "            tmpStack.pop()\n",
        "\n",
        "        # append temp in temporary of stack\n",
        "        tmpStack.append(tmp)\n",
        "\n",
        "    return tmpStack\n",
        "\n",
        "def sortArrayUsingStacks(arr, n):\n",
        "    # append array elements to stack\n",
        "    inputStack = []\n",
        "    i = 0\n",
        "    while i < n:\n",
        "        inputStack.append(arr[i])\n",
        "        i += 1\n",
        "\n",
        "    # Sort the temporary stack\n",
        "    tmpStack = sortStack(inputStack)\n",
        "    i = 0\n",
        "\n",
        "    # Put stack elements in arr\n",
        "    while i < n:\n",
        "        arr[i] = tmpStack[-1]\n",
        "        tmpStack.pop()\n",
        "        i += 1\n",
        "\n",
        "    return arr\n",
        "\n",
        "# Driver code\n",
        "arr = [10, 5, 15, 45]\n",
        "n = len(arr)\n",
        "\n",
        "arr = sortArrayUsingStacks(arr, n)\n",
        "i = 0\n",
        "\n",
        "while i < n:\n",
        "    print(arr[i], end=\"\")\n",
        "    i = i + 1\n"
      ],
      "metadata": {
        "colab": {
          "base_uri": "https://localhost:8080/"
        },
        "id": "laBOtYD3OuBg",
        "outputId": "42376034-c705-4f93-b604-e66c0d0292b7"
      },
      "execution_count": 8,
      "outputs": [
        {
          "output_type": "stream",
          "name": "stdout",
          "text": [
            "5101545"
          ]
        }
      ]
    }
  ]
}