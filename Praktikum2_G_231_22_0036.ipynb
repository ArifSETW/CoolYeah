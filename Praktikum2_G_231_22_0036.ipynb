{
  "nbformat": 4,
  "nbformat_minor": 0,
  "metadata": {
    "colab": {
      "provenance": []
    },
    "kernelspec": {
      "name": "python3",
      "display_name": "Python 3"
    },
    "language_info": {
      "name": "python"
    }
  },
  "cells": [
    {
      "cell_type": "code",
      "execution_count": 2,
      "metadata": {
        "colab": {
          "base_uri": "https://localhost:8080/"
        },
        "id": "61bh4lh4WQPW",
        "outputId": "3352e280-ae83-4fc9-bd0d-7ca8876aa5ad"
      },
      "outputs": [
        {
          "output_type": "stream",
          "name": "stdout",
          "text": [
            "[1, 5, 4, 2, 8, 10, 3, 11]\n",
            "[1, 2, 4, 5, 8, 10, 3, 11]\n",
            "[1, 2, 3, 5, 8, 10, 4, 11]\n",
            "[1, 2, 3, 4, 8, 10, 5, 11]\n",
            "[1, 2, 3, 4, 5, 10, 8, 11]\n",
            "[1, 2, 3, 4, 5, 8, 10, 11]\n",
            "[1, 2, 3, 4, 5, 8, 10, 11]\n",
            "[1, 2, 3, 4, 5, 8, 10, 11]\n"
          ]
        }
      ],
      "source": [
        "def selectionSort(alist):\n",
        "  for slot in range(0,len(alist)-1):\n",
        "   position=slot\n",
        "   for location in range(slot+1,len(alist)):\n",
        "     if alist[location]<alist[position]:\n",
        "        position = location\n",
        "\n",
        "   temp = alist[slot]\n",
        "   alist[slot] = alist[position]\n",
        "   alist[position] = temp\n",
        "   print(alist)\n",
        "angka = [5,1,4,2,8,10,3,11]\n",
        "selectionSort(angka)\n",
        "print(angka)"
      ]
    }
  ]
}